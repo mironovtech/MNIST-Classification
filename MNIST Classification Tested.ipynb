{
 "cells": [
  {
   "cell_type": "markdown",
   "id": "regulated-difference",
   "metadata": {},
   "source": [
    "# Deep Neural Network for MNIST Classification"
   ]
  },
  {
   "cell_type": "code",
   "execution_count": 1,
   "id": "reported-jordan",
   "metadata": {},
   "outputs": [],
   "source": [
    "# Import of required Python packages and datasets\n",
    "import numpy as np\n",
    "import tensorflow as tf\n",
    "\n",
    "import tensorflow_datasets as tfds"
   ]
  },
  {
   "cell_type": "code",
   "execution_count": 2,
   "id": "realistic-webmaster",
   "metadata": {},
   "outputs": [],
   "source": [
    "# Datasets review (optionally)\n",
    "#tfds.list_builders()"
   ]
  },
  {
   "cell_type": "markdown",
   "id": "phantom-communications",
   "metadata": {},
   "source": [
    "## Data Preprocessing"
   ]
  },
  {
   "cell_type": "code",
   "execution_count": 3,
   "id": "magnetic-minimum",
   "metadata": {},
   "outputs": [
    {
     "name": "stderr",
     "output_type": "stream",
     "text": [
      "WARNING:absl:Warning: Setting shuffle_files=True because split=TRAIN and shuffle_files=None. This behavior will be deprecated on 2019-08-06, at which point shuffle_files=False will be the default for all splits.\n"
     ]
    }
   ],
   "source": [
    "# Data loading\n",
    "mnist_dataset, mnist_info = tfds.load(name='mnist', with_info=True, as_supervised=True)"
   ]
  },
  {
   "cell_type": "code",
   "execution_count": 4,
   "id": "accessible-necessity",
   "metadata": {},
   "outputs": [],
   "source": [
    "# Data extracting and building references\n",
    "mnist_train, mnist_test = mnist_dataset['train'], mnist_dataset['test']\n",
    "\n",
    "# Definition of the number of validation samples in the variable\n",
    "num_validation_samples = 0.1 * mnist_info.splits['train'].num_examples\n",
    "\n",
    "# Cast this number to integer\n",
    "num_validation_samples = tf.cast(num_validation_samples, tf.int64)\n",
    "\n",
    "# Definition of the number of test samples in the variable (instead of using the mnist_info)\n",
    "num_test_samples = mnist_info.splits['test'].num_examples\n",
    "\n",
    "# Cast this number to integer\n",
    "num_test_samples = tf.cast(num_test_samples, tf.int64)\n",
    "\n",
    "# Data scaling for MNIST image and its label\n",
    "# Function creation\n",
    "def scale (image, label):\n",
    "    image = tf.cast(image, tf.float32)\n",
    "    image /= 255.0\n",
    "    return image, label\n",
    "\n",
    "# Data transformation\n",
    "scaled_train_and_validation_data = mnist_train.map(scale)\n",
    "\n",
    "# Test data scaling\n",
    "test_data = mnist_test.map(scale)\n",
    "\n",
    "# Data shuffling\n",
    "BUFFER_SIZE = 10000\n",
    "\n",
    "shuffled_train_and_validation_data = scaled_train_and_validation_data.shuffle(BUFFER_SIZE)\n",
    "\n",
    "# Extracting the validation data\n",
    "validation_data = shuffled_train_and_validation_data.take(num_validation_samples)\n",
    "\n",
    "# Extracting the train data\n",
    "train_data = shuffled_train_and_validation_data.skip(num_validation_samples)\n",
    "\n",
    "# Data batching\n",
    "BATCH_SIZE = 100\n",
    "\n",
    "train_data = train_data.batch(BATCH_SIZE)\n",
    "\n",
    "validation_data = validation_data.batch(num_validation_samples)\n",
    "\n",
    "test_data = test_data.batch(num_test_samples)\n",
    "\n",
    "# Loading of data into variables through data iterations\n",
    "validation_inputs, validation_targets = next(iter(validation_data))"
   ]
  },
  {
   "cell_type": "markdown",
   "id": "southwest-interface",
   "metadata": {},
   "source": [
    "## Building the Model"
   ]
  },
  {
   "cell_type": "markdown",
   "id": "cosmetic-nickel",
   "metadata": {},
   "source": [
    "### Model Outlining"
   ]
  },
  {
   "cell_type": "code",
   "execution_count": 5,
   "id": "presidential-screen",
   "metadata": {},
   "outputs": [],
   "source": [
    "# The model outlining\n",
    "input_size = 784\n",
    "output_size = 10\n",
    "\n",
    "# Optional hidden layers size\n",
    "hidden_layer_size = 200\n",
    "\n",
    "# Definition of the model look\n",
    "model = tf.keras.Sequential([\n",
    "                            tf.keras.layers.Flatten(input_shape=(28, 28, 1)),\n",
    "    \n",
    "                            tf.keras.layers.Dense(hidden_layer_size, activation='relu'), # 1st hidden layer\n",
    "                            tf.keras.layers.Dense(hidden_layer_size, activation='relu'), # 2st hidden layer\n",
    "    \n",
    "                            tf.keras.layers.Dense(output_size, activation='softmax'), # Output layer    \n",
    "])"
   ]
  },
  {
   "cell_type": "markdown",
   "id": "unlimited-slovak",
   "metadata": {},
   "source": [
    "### Selection of the optimizer and loss function"
   ]
  },
  {
   "cell_type": "code",
   "execution_count": 6,
   "id": "animal-employment",
   "metadata": {},
   "outputs": [],
   "source": [
    "model.compile(optimizer='adam', loss='sparse_categorical_crossentropy', metrics=['accuracy'])"
   ]
  },
  {
   "cell_type": "markdown",
   "id": "liberal-guess",
   "metadata": {},
   "source": [
    "### Model Training"
   ]
  },
  {
   "cell_type": "code",
   "execution_count": 7,
   "id": "metallic-poker",
   "metadata": {},
   "outputs": [
    {
     "name": "stdout",
     "output_type": "stream",
     "text": [
      "Epoch 1/7\n",
      "540/540 - 9s - loss: 0.2753 - accuracy: 0.9212 - val_loss: 0.1426 - val_accuracy: 0.9580\n",
      "Epoch 2/7\n",
      "540/540 - 7s - loss: 0.1048 - accuracy: 0.9683 - val_loss: 0.0928 - val_accuracy: 0.9728\n",
      "Epoch 3/7\n",
      "540/540 - 8s - loss: 0.0724 - accuracy: 0.9771 - val_loss: 0.0765 - val_accuracy: 0.9775\n",
      "Epoch 4/7\n",
      "540/540 - 8s - loss: 0.0526 - accuracy: 0.9834 - val_loss: 0.0605 - val_accuracy: 0.9820\n",
      "Epoch 5/7\n",
      "540/540 - 8s - loss: 0.0404 - accuracy: 0.9872 - val_loss: 0.0513 - val_accuracy: 0.9830\n",
      "Epoch 6/7\n",
      "540/540 - 8s - loss: 0.0323 - accuracy: 0.9896 - val_loss: 0.0399 - val_accuracy: 0.9873\n",
      "Epoch 7/7\n",
      "540/540 - 8s - loss: 0.0253 - accuracy: 0.9921 - val_loss: 0.0321 - val_accuracy: 0.9902\n"
     ]
    },
    {
     "data": {
      "text/plain": [
       "<tensorflow.python.keras.callbacks.History at 0x7faf4b5a1550>"
      ]
     },
     "execution_count": 7,
     "metadata": {},
     "output_type": "execute_result"
    }
   ],
   "source": [
    "NUM_EPOCHS = 7\n",
    "\n",
    "# Model training using the training data, specified number of epochs, and the validation data\n",
    "model.fit(train_data, epochs = NUM_EPOCHS, validation_data=(validation_inputs, validation_targets), verbose = 2)"
   ]
  },
  {
   "cell_type": "markdown",
   "id": "regulation-singles",
   "metadata": {},
   "source": [
    "### Model Testing"
   ]
  },
  {
   "cell_type": "code",
   "execution_count": 8,
   "id": "ancient-folks",
   "metadata": {},
   "outputs": [
    {
     "name": "stdout",
     "output_type": "stream",
     "text": [
      "1/1 [==============================] - 1s 1s/step - loss: 0.0667 - accuracy: 0.9809\n"
     ]
    }
   ],
   "source": [
    "test_loss, test_accuracy = model.evaluate(test_data)"
   ]
  },
  {
   "cell_type": "code",
   "execution_count": 9,
   "id": "random-roulette",
   "metadata": {},
   "outputs": [
    {
     "name": "stdout",
     "output_type": "stream",
     "text": [
      "Test loss: 0.07. Test accuracy: 98.09%\n"
     ]
    }
   ],
   "source": [
    "print('Test loss: {0:.2f}. Test accuracy: {1:.2f}%'.format(test_loss, test_accuracy*100.0))"
   ]
  }
 ],
 "metadata": {
  "kernelspec": {
   "display_name": "Python 3",
   "language": "python",
   "name": "python3"
  },
  "language_info": {
   "codemirror_mode": {
    "name": "ipython",
    "version": 3
   },
   "file_extension": ".py",
   "mimetype": "text/x-python",
   "name": "python",
   "nbconvert_exporter": "python",
   "pygments_lexer": "ipython3",
   "version": "3.7.9"
  }
 },
 "nbformat": 4,
 "nbformat_minor": 5
}
